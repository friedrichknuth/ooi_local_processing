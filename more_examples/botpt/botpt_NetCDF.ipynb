{
 "cells": [
  {
   "cell_type": "code",
   "execution_count": 23,
   "metadata": {
    "collapsed": false
   },
   "outputs": [],
   "source": [
    "import requests\n",
    "import time\n",
    "from thredds_crawler.crawl import Crawl\n",
    "import os\n",
    "import xarray as xr"
   ]
  },
  {
   "cell_type": "code",
   "execution_count": 24,
   "metadata": {
    "collapsed": true
   },
   "outputs": [],
   "source": [
    "USERNAME ='API USER'\n",
    "TOKEN= 'API TOKEN'\n",
    "DATA_API_BASE_URL = 'https://ooinet.oceanobservatories.org/api/m2m/12576/sensor/inv/'"
   ]
  },
  {
   "cell_type": "code",
   "execution_count": 26,
   "metadata": {
    "collapsed": false
   },
   "outputs": [],
   "source": [
    "data_request_url = DATA_API_BASE_URL+\\\n",
    "                    'RS03CCAL/'+\\\n",
    "                    'MJ03F/'+\\\n",
    "                    '05-BOTPTA301/'+\\\n",
    "                    'streamed/'+\\\n",
    "                    'botpt_nano_sample?'+\\\n",
    "                    'beginDT=2017-05-16T00:05:53.000Z&'+\\\n",
    "                    'endDT=2017-05-16T00:05:54.000Z&'"
   ]
  },
  {
   "cell_type": "code",
   "execution_count": 27,
   "metadata": {
    "collapsed": true
   },
   "outputs": [],
   "source": [
    "r = requests.get(data_request_url, auth=(USERNAME, TOKEN))\n",
    "data = r.json()"
   ]
  },
  {
   "cell_type": "code",
   "execution_count": 28,
   "metadata": {
    "collapsed": false
   },
   "outputs": [
    {
     "name": "stdout",
     "output_type": "stream",
     "text": [
      "request completed\n",
      "CPU times: user 1.65 s, sys: 112 ms, total: 1.76 s\n",
      "Wall time: 1min 1s\n"
     ]
    }
   ],
   "source": [
    "%%time\n",
    "\n",
    "check_complete = data['allURLs'][1] + '/status.txt'\n",
    "for i in range(1000): \n",
    "    r = requests.get(check_complete)\n",
    "    if r.status_code == requests.codes.ok:\n",
    "        print('request completed')\n",
    "        break\n",
    "    else:\n",
    "        time.sleep(.5)"
   ]
  },
  {
   "cell_type": "code",
   "execution_count": 29,
   "metadata": {
    "collapsed": false
   },
   "outputs": [],
   "source": [
    "url = data['allURLs'][0]\n",
    "url = url.replace('.html', '.xml')\n",
    "tds_url = 'https://opendap.oceanobservatories.org/thredds/dodsC'\n",
    "c = Crawl(url, select=[\".*\\.nc$\"], debug=False)\n",
    "datasets = [os.path.join(tds_url, x.id) for x in c.datasets]\n",
    "splitter = url.split('/')[-2].split('-')\n",
    "dataset_url = datasets[0]"
   ]
  },
  {
   "cell_type": "code",
   "execution_count": 41,
   "metadata": {
    "collapsed": false
   },
   "outputs": [],
   "source": [
    "ds = xr.open_dataset(dataset_url)"
   ]
  },
  {
   "cell_type": "code",
   "execution_count": 42,
   "metadata": {
    "collapsed": false
   },
   "outputs": [],
   "source": [
    "time = ds['time'].values\n",
    "temp = ds['press_trans_temp'].values\n",
    "x = zip(time,temp)"
   ]
  },
  {
   "cell_type": "code",
   "execution_count": 43,
   "metadata": {
    "collapsed": false
   },
   "outputs": [
    {
     "name": "stdout",
     "output_type": "stream",
     "text": [
      "(numpy.datetime64('2017-05-16T00:05:52.900000000'), 2.7327950099999998)\n",
      "(numpy.datetime64('2017-05-16T00:05:52.950000000'), 2.7327951160000001)\n",
      "(numpy.datetime64('2017-05-16T00:05:53.000000000'), 2.7327952180000001)\n",
      "(numpy.datetime64('2017-05-16T00:05:53.050000000'), 2.7327953159999998)\n",
      "(numpy.datetime64('2017-05-16T00:05:53.100000000'), 2.732795409)\n",
      "(numpy.datetime64('2017-05-16T00:05:53.150000000'), 2.732795495)\n",
      "(numpy.datetime64('2017-05-16T00:05:53.200000000'), 2.7327955739999998)\n",
      "(numpy.datetime64('2017-05-16T00:05:53.250000000'), 2.7327956439999999)\n",
      "(numpy.datetime64('2017-05-16T00:05:53.300000000'), 2.7327957060000001)\n",
      "(numpy.datetime64('2017-05-16T00:05:53.350000000'), 2.732795758)\n",
      "(numpy.datetime64('2017-05-16T00:05:53.400000000'), 2.7327957999999999)\n",
      "(numpy.datetime64('2017-05-16T00:05:53.450000000'), 2.0)\n",
      "(numpy.datetime64('2017-05-16T00:05:53.500000000'), 2.7327958489999999)\n",
      "(numpy.datetime64('2017-05-16T00:05:53.550000000'), 2.732795855)\n",
      "(numpy.datetime64('2017-05-16T00:05:53.600000000'), 2.7327958450000001)\n",
      "(numpy.datetime64('2017-05-16T00:05:53.650000000'), 2.732795817)\n",
      "(numpy.datetime64('2017-05-16T00:05:53.700000000'), 2.7327957700000001)\n",
      "(numpy.datetime64('2017-05-16T00:05:53.750000000'), 2.7327957039999999)\n",
      "(numpy.datetime64('2017-05-16T00:05:53.800000000'), 2.7327956179999999)\n",
      "(numpy.datetime64('2017-05-16T00:05:53.850000000'), 2.7327955130000001)\n",
      "(numpy.datetime64('2017-05-16T00:05:53.900000000'), 2.7327953909999998)\n",
      "(numpy.datetime64('2017-05-16T00:05:53.950000000'), 2.7327952519999998)\n",
      "(numpy.datetime64('2017-05-16T00:05:54.000000000'), 2.7327950959999998)\n",
      "(numpy.datetime64('2017-05-16T00:05:54.050000000'), 2.7327949249999999)\n",
      "(numpy.datetime64('2017-05-16T00:05:54.100000000'), 2.7327947410000002)\n"
     ]
    }
   ],
   "source": [
    "for i in x:\n",
    "    print i"
   ]
  },
  {
   "cell_type": "code",
   "execution_count": null,
   "metadata": {
    "collapsed": true
   },
   "outputs": [],
   "source": []
  }
 ],
 "metadata": {
  "kernelspec": {
   "display_name": "mi",
   "language": "python",
   "name": "mi"
  },
  "language_info": {
   "codemirror_mode": {
    "name": "ipython",
    "version": 2
   },
   "file_extension": ".py",
   "mimetype": "text/x-python",
   "name": "python",
   "nbconvert_exporter": "python",
   "pygments_lexer": "ipython2",
   "version": "2.7.14"
  }
 },
 "nbformat": 4,
 "nbformat_minor": 2
}
