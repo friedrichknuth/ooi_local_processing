{
 "cells": [
  {
   "cell_type": "code",
   "execution_count": 25,
   "metadata": {
    "collapsed": true
   },
   "outputs": [],
   "source": [
    "import subprocess\n",
    "import datetime\n",
    "import pickle\n",
    "import xarray as xr"
   ]
  },
  {
   "cell_type": "code",
   "execution_count": null,
   "metadata": {
    "collapsed": true
   },
   "outputs": [],
   "source": [
    "ntp_epoch = datetime.datetime(1900, 1, 1)\n",
    "unix_epoch = datetime.datetime(1970, 1, 1)\n",
    "ntp_delta = (unix_epoch - ntp_epoch).total_seconds()\n",
    "\n",
    "def ntp_seconds_to_datetime(ntp_seconds):\n",
    "    return datetime.datetime.utcfromtimestamp(ntp_seconds - ntp_delta).strftime('%Y-%m-%dT%H:%M:%S.%f')"
   ]
  },
  {
   "cell_type": "code",
   "execution_count": 2,
   "metadata": {
    "collapsed": false
   },
   "outputs": [
    {
     "name": "stdout",
     "output_type": "stream",
     "text": [
      "Processing 1 files in ./raw_data: \n",
      "BOTPTA301\n",
      "chunky (1, 106627939, datetime.datetime(2017, 5, 16, 0, 0), datetime.datetime(2017, 5, 17, 0, 0))\n",
      "ascii (0, 0, None, None)\n",
      "binary (0, 0, None, None)\n",
      "\n"
     ]
    }
   ],
   "source": [
    "analyze = 'analyze ./raw_data'\n",
    "print subprocess.check_output(analyze, shell=True)"
   ]
  },
  {
   "cell_type": "code",
   "execution_count": 6,
   "metadata": {
    "collapsed": false
   },
   "outputs": [
    {
     "name": "stdout",
     "output_type": "stream",
     "text": [
      "0\n"
     ]
    }
   ],
   "source": [
    "playback = 'playback chunky mi.instrument.noaa.botpt.ooicore.driver \\\n",
    "RS03CCAL-MJ03F-05-BOTPTA301 log:// xarray:// ./raw_data/BOTPTA301_10.31.6.5_9338_20170516T0000_UTC.dat'\n",
    "print subprocess.call(playback, shell=True) # if output 0 then it ran without error"
   ]
  },
  {
   "cell_type": "code",
   "execution_count": 37,
   "metadata": {
    "collapsed": false
   },
   "outputs": [],
   "source": [
    "ds = pickle.load(open('botpt_nano_sample.xr'))\n",
    "time = []\n",
    "for i in ds['internal_timestamp'].values:\n",
    "    time.append(ntp_seconds_to_datetime(i))\n",
    "temp = ds['press_trans_temp'].values\n",
    "x = zip(time,temp)"
   ]
  },
  {
   "cell_type": "code",
   "execution_count": 54,
   "metadata": {
    "collapsed": false
   },
   "outputs": [
    {
     "name": "stdout",
     "output_type": "stream",
     "text": [
      "('2017-05-16T00:05:53.300000', 2.7327957060000001)\n",
      "('2017-05-16T00:05:53.350000', 2.732795758)\n",
      "('2017-05-16T00:05:53.400000', 2.7327957999999999)\n",
      "('2017-05-16T00:05:53.450000', 2.7327958309999998)\n",
      "('2017-05-16T00:05:53.500000', 2.7327958489999999)\n",
      "('2017-05-16T00:05:53.550000', 2.732795855)\n",
      "('2017-05-16T00:05:53.600000', 2.7327958450000001)\n",
      "('2017-05-16T00:05:53.650000', 2.732795817)\n",
      "('2017-05-16T00:05:53.700000', 2.7327957700000001)\n"
     ]
    }
   ],
   "source": [
    "for i in x[7082:7091]:\n",
    "    print i"
   ]
  },
  {
   "cell_type": "code",
   "execution_count": null,
   "metadata": {
    "collapsed": true
   },
   "outputs": [],
   "source": []
  }
 ],
 "metadata": {
  "kernelspec": {
   "display_name": "mi",
   "language": "python",
   "name": "mi"
  },
  "language_info": {
   "codemirror_mode": {
    "name": "ipython",
    "version": 2
   },
   "file_extension": ".py",
   "mimetype": "text/x-python",
   "name": "python",
   "nbconvert_exporter": "python",
   "pygments_lexer": "ipython2",
   "version": "2.7.14"
  }
 },
 "nbformat": 4,
 "nbformat_minor": 2
}
