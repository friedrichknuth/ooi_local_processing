{
 "cells": [
  {
   "cell_type": "markdown",
   "metadata": {},
   "source": [
    "# Parse Raw Data\n",
    "\n",
    "Make sure you have followed the instructions in the README to get your packages installed and environment set up.\n",
    "\n",
    "The mi-instrument toolbox, used to parse raw datafiles, is set up to be run from the shell. To keep things contained within the notebook, we will execute the commands using subprocess.\n",
    "\n",
    "NOTE: This example parses cabled data. Cabled data parsers are referred to as `drivers` and the parsing process as `playback`. However, the process is analagous to the way un-cabled data can be parsed and processed. A follow up example for un-cabled data can be provided."
   ]
  },
  {
   "cell_type": "code",
   "execution_count": 1,
   "metadata": {},
   "outputs": [],
   "source": [
    "import subprocess"
   ]
  },
  {
   "cell_type": "markdown",
   "metadata": {},
   "source": [
    "mi-instrument has two basic operations\n",
    "\n",
    "```\n",
    "analyze <dir>\n",
    "playback <type> <module> <refdes> log:// csv:// <file>\n",
    "```\n",
    "\n",
    "First let's analyze the directory containing the example raw data file, obtained at\n",
    "\n",
    "https://rawdata.oceanobservatories.org/files/RS01SBPS/SF01A/CTDPFA102/2017/10/"
   ]
  },
  {
   "cell_type": "code",
   "execution_count": 2,
   "metadata": {},
   "outputs": [
    {
     "name": "stdout",
     "output_type": "stream",
     "text": [
      "Processing 1 files in ./raw_data: \n",
      "CTDPFA102\n",
      "chunky (0, 0, None, None)\n",
      "ascii (0, 0, None, None)\n",
      "binary (1, 3801512, datetime.datetime(2017, 10, 5, 0, 0), datetime.datetime(2017, 10, 6, 0, 0))\n",
      "\n"
     ]
    }
   ],
   "source": [
    "analyze = 'analyze ./raw_data'\n",
    "print subprocess.check_output(analyze, shell=True)"
   ]
  },
  {
   "cell_type": "markdown",
   "metadata": {},
   "source": [
    "We see that this folder contains 1 binary (datalog) file. Next we will playback (parse) this data. The playback option accepts three data types, which is why you want to analyze what you are working with first.\n",
    "\n",
    "`<type>`\n",
    "```\n",
    "chunky\n",
    "ascii\n",
    "datalog (binary)\n",
    "```\n",
    "Next you will need to specify the correct module (driver) for this data type, which reflects the path to the parser in the mi-instrument repo. How do you know which driver to use? \n",
    "\n",
    "This information is contained in the provenance json file that is served up on THREDDS alongside the NetCDF in an asynchronous data download. \n",
    "\n",
    "https://opendap.oceanobservatories.org/thredds/catalog/ooi/friedrich-knuth-rutgers/20171007T204818-RS01SBPS-SF01A-2A-CTDPFA102-streamed-ctdpf_sbe43_sample/catalog.html\n",
    "\n",
    "This file has been placed in the /ooi_data folder [here](https://github.com/friedrichknuth/ooi_local_processing/blob/master/ooi_data/deployment0004_RS01SBPS-SF01A-2A-CTDPFA102-streamed-ctdpf_sbe43_sample_aggregate_provenance.json#L4770) for reference. This information is also being listed for quick reference on the Data Team Portal page for RS01SBPS-SF01A-2A-CTDPFA102 ctdpf_sbe43_sample http://ooi.visualocean.net/data-streams/view/6114.\n",
    "\n",
    "`<module>`\n",
    "```\n",
    "mi.instrument.seabird.sbe16plus_v2.ctdpf_sbe43.driver\n",
    "```\n",
    "\n",
    "Next, specify the reference designator this data came from and to produce the log:// output, along with one of the following parsed dataset output options:\n",
    "\n",
    "```\n",
    "csv://\n",
    "pandas://\n",
    "xarray://\n",
    "```\n",
    "\n",
    "For this example, we will choose the csv:// output type, but if you are parsing a directory with multiple files, you may want to consider a more efficient output type. Finally, specify the path to the raw data file. See fully qualified playback command below.\n",
    "\n"
   ]
  },
  {
   "cell_type": "code",
   "execution_count": 3,
   "metadata": {},
   "outputs": [
    {
     "name": "stdout",
     "output_type": "stream",
     "text": [
      "0\n"
     ]
    }
   ],
   "source": [
    "playback = 'playback datalog mi.instrument.seabird.sbe16plus_v2.ctdpf_sbe43.driver \\\n",
    "RS01SBPS-SF01A-2A-CTDPFA102 log:// csv:// ./raw_data/CTDPFA102_10.33.3.195_2101_20171005T0000_UTC.dat'\n",
    "print subprocess.call(playback, shell=True) # if output 0 then it ran without error"
   ]
  },
  {
   "cell_type": "markdown",
   "metadata": {},
   "source": [
    "Running this command should have produce the following two files in your ooi_local_processing working directory:\n",
    "```\n",
    "ctdpf_sbe43_sample.csv\n",
    "mi-drivers.log\n",
    "\n",
    "```\n",
    "Now lets inspect what is in the csv."
   ]
  },
  {
   "cell_type": "code",
   "execution_count": 4,
   "metadata": {},
   "outputs": [],
   "source": [
    "import pandas as pd"
   ]
  },
  {
   "cell_type": "code",
   "execution_count": 5,
   "metadata": {},
   "outputs": [
    {
     "data": {
      "text/html": [
       "<div>\n",
       "<style>\n",
       "    .dataframe thead tr:only-child th {\n",
       "        text-align: right;\n",
       "    }\n",
       "\n",
       "    .dataframe thead th {\n",
       "        text-align: left;\n",
       "    }\n",
       "\n",
       "    .dataframe tbody tr th {\n",
       "        vertical-align: top;\n",
       "    }\n",
       "</style>\n",
       "<table border=\"1\" class=\"dataframe\">\n",
       "  <thead>\n",
       "    <tr style=\"text-align: right;\">\n",
       "      <th></th>\n",
       "      <th>dim_0</th>\n",
       "      <th>conductivity</th>\n",
       "      <th>driver_timestamp</th>\n",
       "      <th>ext_volt0</th>\n",
       "      <th>pkt_format_id</th>\n",
       "      <th>pkt_version</th>\n",
       "      <th>port_timestamp</th>\n",
       "      <th>preferred_timestamp</th>\n",
       "      <th>pressure</th>\n",
       "      <th>pressure_temp</th>\n",
       "      <th>quality_flag</th>\n",
       "      <th>stream_name</th>\n",
       "      <th>temperature</th>\n",
       "    </tr>\n",
       "  </thead>\n",
       "  <tbody>\n",
       "    <tr>\n",
       "      <th>0</th>\n",
       "      <td>0</td>\n",
       "      <td>1376076</td>\n",
       "      <td>3.716406e+09</td>\n",
       "      <td>14738</td>\n",
       "      <td>JSON_Data</td>\n",
       "      <td>1</td>\n",
       "      <td>3.716150e+09</td>\n",
       "      <td>port_timestamp</td>\n",
       "      <td>712870</td>\n",
       "      <td>24791</td>\n",
       "      <td>ok</td>\n",
       "      <td>ctdpf_sbe43_sample</td>\n",
       "      <td>441232</td>\n",
       "    </tr>\n",
       "    <tr>\n",
       "      <th>1</th>\n",
       "      <td>1</td>\n",
       "      <td>1376078</td>\n",
       "      <td>3.716406e+09</td>\n",
       "      <td>14737</td>\n",
       "      <td>JSON_Data</td>\n",
       "      <td>1</td>\n",
       "      <td>3.716150e+09</td>\n",
       "      <td>port_timestamp</td>\n",
       "      <td>712869</td>\n",
       "      <td>24790</td>\n",
       "      <td>ok</td>\n",
       "      <td>ctdpf_sbe43_sample</td>\n",
       "      <td>441230</td>\n",
       "    </tr>\n",
       "    <tr>\n",
       "      <th>2</th>\n",
       "      <td>2</td>\n",
       "      <td>1376079</td>\n",
       "      <td>3.716406e+09</td>\n",
       "      <td>14741</td>\n",
       "      <td>JSON_Data</td>\n",
       "      <td>1</td>\n",
       "      <td>3.716150e+09</td>\n",
       "      <td>port_timestamp</td>\n",
       "      <td>712869</td>\n",
       "      <td>24789</td>\n",
       "      <td>ok</td>\n",
       "      <td>ctdpf_sbe43_sample</td>\n",
       "      <td>441228</td>\n",
       "    </tr>\n",
       "    <tr>\n",
       "      <th>3</th>\n",
       "      <td>3</td>\n",
       "      <td>1376081</td>\n",
       "      <td>3.716406e+09</td>\n",
       "      <td>14742</td>\n",
       "      <td>JSON_Data</td>\n",
       "      <td>1</td>\n",
       "      <td>3.716150e+09</td>\n",
       "      <td>port_timestamp</td>\n",
       "      <td>712868</td>\n",
       "      <td>24786</td>\n",
       "      <td>ok</td>\n",
       "      <td>ctdpf_sbe43_sample</td>\n",
       "      <td>441227</td>\n",
       "    </tr>\n",
       "    <tr>\n",
       "      <th>4</th>\n",
       "      <td>4</td>\n",
       "      <td>1376081</td>\n",
       "      <td>3.716406e+09</td>\n",
       "      <td>14741</td>\n",
       "      <td>JSON_Data</td>\n",
       "      <td>1</td>\n",
       "      <td>3.716150e+09</td>\n",
       "      <td>port_timestamp</td>\n",
       "      <td>712868</td>\n",
       "      <td>24786</td>\n",
       "      <td>ok</td>\n",
       "      <td>ctdpf_sbe43_sample</td>\n",
       "      <td>441225</td>\n",
       "    </tr>\n",
       "  </tbody>\n",
       "</table>\n",
       "</div>"
      ],
      "text/plain": [
       "   dim_0  conductivity  driver_timestamp  ext_volt0 pkt_format_id  \\\n",
       "0      0       1376076      3.716406e+09      14738     JSON_Data   \n",
       "1      1       1376078      3.716406e+09      14737     JSON_Data   \n",
       "2      2       1376079      3.716406e+09      14741     JSON_Data   \n",
       "3      3       1376081      3.716406e+09      14742     JSON_Data   \n",
       "4      4       1376081      3.716406e+09      14741     JSON_Data   \n",
       "\n",
       "   pkt_version  port_timestamp preferred_timestamp  pressure  pressure_temp  \\\n",
       "0            1    3.716150e+09      port_timestamp    712870          24791   \n",
       "1            1    3.716150e+09      port_timestamp    712869          24790   \n",
       "2            1    3.716150e+09      port_timestamp    712869          24789   \n",
       "3            1    3.716150e+09      port_timestamp    712868          24786   \n",
       "4            1    3.716150e+09      port_timestamp    712868          24786   \n",
       "\n",
       "  quality_flag         stream_name  temperature  \n",
       "0           ok  ctdpf_sbe43_sample       441232  \n",
       "1           ok  ctdpf_sbe43_sample       441230  \n",
       "2           ok  ctdpf_sbe43_sample       441228  \n",
       "3           ok  ctdpf_sbe43_sample       441227  \n",
       "4           ok  ctdpf_sbe43_sample       441225  "
      ]
     },
     "execution_count": 5,
     "metadata": {},
     "output_type": "execute_result"
    }
   ],
   "source": [
    "parsed_data = pd.read_csv('ctdpf_sbe43_sample.csv')\n",
    "parsed_data.head()"
   ]
  },
  {
   "cell_type": "markdown",
   "metadata": {},
   "source": [
    "We see the raw CTD data as it came off the instrument and through the cabled network. Note that the preferred timestamp for this data is identified as the port_timestamp.\n",
    "\n",
    "Now lets run this parsed L0 data, as it would be stored in Cassandra, through the applicable OOI Data Product Algorithm (also known as `processor` or `ion-function`) along with with the correct calibration values applied.\n",
    "\n",
    "We are looking at data from 2017-10-05, which means that on that date, the Unique instrument Identifier (UID) ATAPL-66662-00008 was in the water, according to the RS01SBPS platform deployment sheet on GitHub.\n",
    "\n",
    "https://github.com/ooi-integration/asset-management/blob/master/deployment/RS01SBPS_Deploy.csv\n",
    "\n",
    "This then lets us identify and pull the correct calibration sheet, which has been placed in the /calibration_data folder, and can be found here:\n",
    "\n",
    "https://github.com/ooi-integration/asset-management/blob/master/calibration/CTDPFA/ATAPL-66662-00008__20170125.csv\n"
   ]
  },
  {
   "cell_type": "code",
   "execution_count": 6,
   "metadata": {},
   "outputs": [
    {
     "data": {
      "text/html": [
       "<div>\n",
       "<style>\n",
       "    .dataframe thead tr:only-child th {\n",
       "        text-align: right;\n",
       "    }\n",
       "\n",
       "    .dataframe thead th {\n",
       "        text-align: left;\n",
       "    }\n",
       "\n",
       "    .dataframe tbody tr th {\n",
       "        vertical-align: top;\n",
       "    }\n",
       "</style>\n",
       "<table border=\"1\" class=\"dataframe\">\n",
       "  <thead>\n",
       "    <tr style=\"text-align: right;\">\n",
       "      <th></th>\n",
       "      <th>serial</th>\n",
       "      <th>value</th>\n",
       "      <th>notes</th>\n",
       "    </tr>\n",
       "    <tr>\n",
       "      <th>name</th>\n",
       "      <th></th>\n",
       "      <th></th>\n",
       "      <th></th>\n",
       "    </tr>\n",
       "  </thead>\n",
       "  <tbody>\n",
       "    <tr>\n",
       "      <th>CC_a0</th>\n",
       "      <td>16-50115</td>\n",
       "      <td>1.220000e-03</td>\n",
       "      <td>NaN</td>\n",
       "    </tr>\n",
       "    <tr>\n",
       "      <th>CC_a1</th>\n",
       "      <td>16-50115</td>\n",
       "      <td>2.800000e-04</td>\n",
       "      <td>NaN</td>\n",
       "    </tr>\n",
       "    <tr>\n",
       "      <th>CC_a2</th>\n",
       "      <td>16-50115</td>\n",
       "      <td>-1.460000e-06</td>\n",
       "      <td>NaN</td>\n",
       "    </tr>\n",
       "    <tr>\n",
       "      <th>CC_a3</th>\n",
       "      <td>16-50115</td>\n",
       "      <td>2.000000e-07</td>\n",
       "      <td>NaN</td>\n",
       "    </tr>\n",
       "    <tr>\n",
       "      <th>CC_cpcor</th>\n",
       "      <td>16-50115</td>\n",
       "      <td>-9.570000e-08</td>\n",
       "      <td>NaN</td>\n",
       "    </tr>\n",
       "    <tr>\n",
       "      <th>CC_ctcor</th>\n",
       "      <td>16-50115</td>\n",
       "      <td>3.250000e-06</td>\n",
       "      <td>NaN</td>\n",
       "    </tr>\n",
       "    <tr>\n",
       "      <th>CC_g</th>\n",
       "      <td>16-50115</td>\n",
       "      <td>-9.770000e-01</td>\n",
       "      <td>NaN</td>\n",
       "    </tr>\n",
       "    <tr>\n",
       "      <th>CC_h</th>\n",
       "      <td>16-50115</td>\n",
       "      <td>1.540000e-01</td>\n",
       "      <td>NaN</td>\n",
       "    </tr>\n",
       "    <tr>\n",
       "      <th>CC_i</th>\n",
       "      <td>16-50115</td>\n",
       "      <td>-1.890000e-04</td>\n",
       "      <td>NaN</td>\n",
       "    </tr>\n",
       "    <tr>\n",
       "      <th>CC_j</th>\n",
       "      <td>16-50115</td>\n",
       "      <td>3.940000e-05</td>\n",
       "      <td>NaN</td>\n",
       "    </tr>\n",
       "    <tr>\n",
       "      <th>CC_pa0</th>\n",
       "      <td>16-50115</td>\n",
       "      <td>9.150000e-02</td>\n",
       "      <td>NaN</td>\n",
       "    </tr>\n",
       "    <tr>\n",
       "      <th>CC_pa1</th>\n",
       "      <td>16-50115</td>\n",
       "      <td>1.550000e-03</td>\n",
       "      <td>NaN</td>\n",
       "    </tr>\n",
       "    <tr>\n",
       "      <th>CC_pa2</th>\n",
       "      <td>16-50115</td>\n",
       "      <td>6.730000e-12</td>\n",
       "      <td>NaN</td>\n",
       "    </tr>\n",
       "    <tr>\n",
       "      <th>CC_ptca0</th>\n",
       "      <td>16-50115</td>\n",
       "      <td>5.240000e+05</td>\n",
       "      <td>NaN</td>\n",
       "    </tr>\n",
       "    <tr>\n",
       "      <th>CC_ptca1</th>\n",
       "      <td>16-50115</td>\n",
       "      <td>5.250000e+00</td>\n",
       "      <td>NaN</td>\n",
       "    </tr>\n",
       "    <tr>\n",
       "      <th>CC_ptca2</th>\n",
       "      <td>16-50115</td>\n",
       "      <td>-1.160000e-01</td>\n",
       "      <td>NaN</td>\n",
       "    </tr>\n",
       "    <tr>\n",
       "      <th>CC_ptcb0</th>\n",
       "      <td>16-50115</td>\n",
       "      <td>2.500000e+01</td>\n",
       "      <td>NaN</td>\n",
       "    </tr>\n",
       "    <tr>\n",
       "      <th>CC_ptcb1</th>\n",
       "      <td>16-50115</td>\n",
       "      <td>5.000000e-05</td>\n",
       "      <td>NaN</td>\n",
       "    </tr>\n",
       "    <tr>\n",
       "      <th>CC_ptcb2</th>\n",
       "      <td>16-50115</td>\n",
       "      <td>0.000000e+00</td>\n",
       "      <td>NaN</td>\n",
       "    </tr>\n",
       "    <tr>\n",
       "      <th>CC_ptempa0</th>\n",
       "      <td>16-50115</td>\n",
       "      <td>-8.090000e+01</td>\n",
       "      <td>NaN</td>\n",
       "    </tr>\n",
       "    <tr>\n",
       "      <th>CC_ptempa1</th>\n",
       "      <td>16-50115</td>\n",
       "      <td>4.720000e+01</td>\n",
       "      <td>NaN</td>\n",
       "    </tr>\n",
       "    <tr>\n",
       "      <th>CC_ptempa2</th>\n",
       "      <td>16-50115</td>\n",
       "      <td>-2.370000e-01</td>\n",
       "      <td>NaN</td>\n",
       "    </tr>\n",
       "    <tr>\n",
       "      <th>CC_offset</th>\n",
       "      <td>16-50115</td>\n",
       "      <td>0.000000e+00</td>\n",
       "      <td>NaN</td>\n",
       "    </tr>\n",
       "  </tbody>\n",
       "</table>\n",
       "</div>"
      ],
      "text/plain": [
       "              serial         value  notes\n",
       "name                                     \n",
       "CC_a0       16-50115  1.220000e-03    NaN\n",
       "CC_a1       16-50115  2.800000e-04    NaN\n",
       "CC_a2       16-50115 -1.460000e-06    NaN\n",
       "CC_a3       16-50115  2.000000e-07    NaN\n",
       "CC_cpcor    16-50115 -9.570000e-08    NaN\n",
       "CC_ctcor    16-50115  3.250000e-06    NaN\n",
       "CC_g        16-50115 -9.770000e-01    NaN\n",
       "CC_h        16-50115  1.540000e-01    NaN\n",
       "CC_i        16-50115 -1.890000e-04    NaN\n",
       "CC_j        16-50115  3.940000e-05    NaN\n",
       "CC_pa0      16-50115  9.150000e-02    NaN\n",
       "CC_pa1      16-50115  1.550000e-03    NaN\n",
       "CC_pa2      16-50115  6.730000e-12    NaN\n",
       "CC_ptca0    16-50115  5.240000e+05    NaN\n",
       "CC_ptca1    16-50115  5.250000e+00    NaN\n",
       "CC_ptca2    16-50115 -1.160000e-01    NaN\n",
       "CC_ptcb0    16-50115  2.500000e+01    NaN\n",
       "CC_ptcb1    16-50115  5.000000e-05    NaN\n",
       "CC_ptcb2    16-50115  0.000000e+00    NaN\n",
       "CC_ptempa0  16-50115 -8.090000e+01    NaN\n",
       "CC_ptempa1  16-50115  4.720000e+01    NaN\n",
       "CC_ptempa2  16-50115 -2.370000e-01    NaN\n",
       "CC_offset   16-50115  0.000000e+00    NaN"
      ]
     },
     "execution_count": 6,
     "metadata": {},
     "output_type": "execute_result"
    }
   ],
   "source": [
    "cal_values = pd.read_csv('./calibration_data/ATAPL-66662-00008__20170125.csv', index_col= 'name')\n",
    "cal_values"
   ]
  },
  {
   "cell_type": "markdown",
   "metadata": {},
   "source": [
    "# Process Parsed Data\n",
    "Now that we have our parsed L0 and calibration data loaded, we are ready to import the correct ion-fuction to process the data. For this example, we will process the L1 `seawater_temperature` data product from the L0 `temperature` values in the csv.\n",
    "\n",
    "http://ooi.visualocean.net/parameters/view/908\n",
    "\n",
    "Again, the correct function being used to calculate a given data product can be identified in the provenance json file (example in /ooi_data) or on the Data Team Portal under :\n",
    "\n",
    "http://ooi.visualocean.net/parameter-functions/view/35\n",
    "\n",
    "It isn't clear how to import the entire ion-functions library, or call it after installation similar to mi-instrument, so I moved the ctd_functions.py library into this repo so that it can be easily imported from. This library can be found in the ion-functions repo under:\n",
    "\n",
    "https://github.com/oceanobservatories/ion-functions/blob/master/ion_functions/data/ctd_functions.py"
   ]
  },
  {
   "cell_type": "code",
   "execution_count": 7,
   "metadata": {},
   "outputs": [],
   "source": [
    "from ctd_functions import ctd_sbe16plus_tempwat"
   ]
  },
  {
   "cell_type": "code",
   "execution_count": 8,
   "metadata": {},
   "outputs": [],
   "source": [
    "# prepare your inputs for the function\n",
    "t0 = parsed_data['temperature'].values\n",
    "a1 = cal_values.loc['CC_a1'].value\n",
    "a0 = cal_values.loc['CC_a0'].value\n",
    "a3 = cal_values.loc['CC_a3'].value\n",
    "a2 = cal_values.loc['CC_a2'].value"
   ]
  },
  {
   "cell_type": "code",
   "execution_count": 9,
   "metadata": {},
   "outputs": [],
   "source": [
    "# run the function to get the seawater_temperature and grab the time stamps\n",
    "seawater_temperature = ctd_sbe16plus_tempwat(t0,a0,a1,a2,a3)\n",
    "time_ntp = parsed_data['port_timestamp']"
   ]
  },
  {
   "cell_type": "code",
   "execution_count": 10,
   "metadata": {
    "collapsed": true
   },
   "outputs": [],
   "source": [
    "import datetime"
   ]
  },
  {
   "cell_type": "code",
   "execution_count": 11,
   "metadata": {},
   "outputs": [],
   "source": [
    "# convert those ntp epoch timestamps (seconds since 1900)\n",
    "ntp_epoch = datetime.datetime(1900, 1, 1)\n",
    "unix_epoch = datetime.datetime(1970, 1, 1)\n",
    "ntp_ordinal = ntp_epoch.toordinal()\n",
    "ntp_delta = (unix_epoch - ntp_epoch).total_seconds()\n",
    "\n",
    "def ntp_seconds_to_datetime(ntp_seconds):\n",
    "    return datetime.datetime.utcfromtimestamp(ntp_seconds - ntp_delta).replace(microsecond=0)\n",
    "\n",
    "time = []\n",
    "for i in time_ntp:\n",
    "    time.append(ntp_seconds_to_datetime(i))"
   ]
  },
  {
   "cell_type": "markdown",
   "metadata": {},
   "source": [
    "Now that we have a human readable timestamp and the L1 data product, time to compare these data to the data output by OOI net."
   ]
  },
  {
   "cell_type": "markdown",
   "metadata": {},
   "source": [
    "# Import OOINet Processed Data"
   ]
  },
  {
   "cell_type": "code",
   "execution_count": 12,
   "metadata": {
    "collapsed": true
   },
   "outputs": [],
   "source": [
    "import xarray as xr"
   ]
  },
  {
   "cell_type": "code",
   "execution_count": 13,
   "metadata": {},
   "outputs": [],
   "source": [
    "# import the data from an asynchronously produced NetCDF file served up on THREDDS.\n",
    "ds = xr.open_dataset('./ooi_data/deployment0004_RS01SBPS-SF01A-2A-CTDPFA102-streamed-ctdpf_sbe43_sample_20171005T000000.721350-20171005T235959.013428.nc',decode_times=False)\n",
    "\n",
    "# extract the ooinet sewater_temp and time\n",
    "seawater_temperature_ooinet = ds.seawater_temperature.values\n",
    "time_ooinet = []\n",
    "for i in ds.port_timestamp.values:\n",
    "    time_ooinet.append(ntp_seconds_to_datetime(i))"
   ]
  },
  {
   "cell_type": "markdown",
   "metadata": {},
   "source": [
    "# Compare Locally Processed Data to OOINet Output\n",
    "Let's start by visually comparing two data frames."
   ]
  },
  {
   "cell_type": "code",
   "execution_count": 14,
   "metadata": {
    "collapsed": true
   },
   "outputs": [],
   "source": [
    "# df will be the dataframe that contains the locally parsed time stamps and temperature values\n",
    "df = pd.DataFrame(seawater_temperature, columns=['seawater_temperature'])\n",
    "df['time'] = time\n",
    "\n",
    "# df_nc will contain the time stamps and temperature values produced by ooinet\n",
    "df_nc = pd.DataFrame(seawater_temperature_ooinet, columns=['seawater_temperature_ooinet'])\n",
    "df_nc['time_ooinet'] = time_ooinet"
   ]
  },
  {
   "cell_type": "code",
   "execution_count": 15,
   "metadata": {},
   "outputs": [
    {
     "name": "stdout",
     "output_type": "stream",
     "text": [
      "86398\n",
      "86398\n",
      "False\n",
      "False\n"
     ]
    }
   ],
   "source": [
    "# data frame lengths are identical\n",
    "print len(df)\n",
    "print len(df_nc)\n",
    "\n",
    "# neither contain NaNs or null values\n",
    "print df.isnull().values.any()\n",
    "print df_nc.isnull().values.any()"
   ]
  },
  {
   "cell_type": "code",
   "execution_count": 16,
   "metadata": {},
   "outputs": [
    {
     "data": {
      "text/html": [
       "<div>\n",
       "<style>\n",
       "    .dataframe thead tr:only-child th {\n",
       "        text-align: right;\n",
       "    }\n",
       "\n",
       "    .dataframe thead th {\n",
       "        text-align: left;\n",
       "    }\n",
       "\n",
       "    .dataframe tbody tr th {\n",
       "        vertical-align: top;\n",
       "    }\n",
       "</style>\n",
       "<table border=\"1\" class=\"dataframe\">\n",
       "  <thead>\n",
       "    <tr style=\"text-align: right;\">\n",
       "      <th></th>\n",
       "      <th>seawater_temperature</th>\n",
       "      <th>time</th>\n",
       "    </tr>\n",
       "  </thead>\n",
       "  <tbody>\n",
       "    <tr>\n",
       "      <th>0</th>\n",
       "      <td>7.719425</td>\n",
       "      <td>2017-10-05 00:00:00</td>\n",
       "    </tr>\n",
       "    <tr>\n",
       "      <th>1</th>\n",
       "      <td>7.719550</td>\n",
       "      <td>2017-10-05 00:00:01</td>\n",
       "    </tr>\n",
       "    <tr>\n",
       "      <th>2</th>\n",
       "      <td>7.719674</td>\n",
       "      <td>2017-10-05 00:00:02</td>\n",
       "    </tr>\n",
       "    <tr>\n",
       "      <th>3</th>\n",
       "      <td>7.719736</td>\n",
       "      <td>2017-10-05 00:00:03</td>\n",
       "    </tr>\n",
       "    <tr>\n",
       "      <th>4</th>\n",
       "      <td>7.719861</td>\n",
       "      <td>2017-10-05 00:00:04</td>\n",
       "    </tr>\n",
       "  </tbody>\n",
       "</table>\n",
       "</div>"
      ],
      "text/plain": [
       "   seawater_temperature                time\n",
       "0              7.719425 2017-10-05 00:00:00\n",
       "1              7.719550 2017-10-05 00:00:01\n",
       "2              7.719674 2017-10-05 00:00:02\n",
       "3              7.719736 2017-10-05 00:00:03\n",
       "4              7.719861 2017-10-05 00:00:04"
      ]
     },
     "execution_count": 16,
     "metadata": {},
     "output_type": "execute_result"
    }
   ],
   "source": [
    "# visually they look the same\n",
    "df.head() # locally processed"
   ]
  },
  {
   "cell_type": "code",
   "execution_count": 17,
   "metadata": {},
   "outputs": [
    {
     "data": {
      "text/html": [
       "<div>\n",
       "<style>\n",
       "    .dataframe thead tr:only-child th {\n",
       "        text-align: right;\n",
       "    }\n",
       "\n",
       "    .dataframe thead th {\n",
       "        text-align: left;\n",
       "    }\n",
       "\n",
       "    .dataframe tbody tr th {\n",
       "        vertical-align: top;\n",
       "    }\n",
       "</style>\n",
       "<table border=\"1\" class=\"dataframe\">\n",
       "  <thead>\n",
       "    <tr style=\"text-align: right;\">\n",
       "      <th></th>\n",
       "      <th>seawater_temperature_ooinet</th>\n",
       "      <th>time_ooinet</th>\n",
       "    </tr>\n",
       "  </thead>\n",
       "  <tbody>\n",
       "    <tr>\n",
       "      <th>0</th>\n",
       "      <td>7.719425</td>\n",
       "      <td>2017-10-05 00:00:00</td>\n",
       "    </tr>\n",
       "    <tr>\n",
       "      <th>1</th>\n",
       "      <td>7.719550</td>\n",
       "      <td>2017-10-05 00:00:01</td>\n",
       "    </tr>\n",
       "    <tr>\n",
       "      <th>2</th>\n",
       "      <td>7.719674</td>\n",
       "      <td>2017-10-05 00:00:02</td>\n",
       "    </tr>\n",
       "    <tr>\n",
       "      <th>3</th>\n",
       "      <td>7.719736</td>\n",
       "      <td>2017-10-05 00:00:03</td>\n",
       "    </tr>\n",
       "    <tr>\n",
       "      <th>4</th>\n",
       "      <td>7.719861</td>\n",
       "      <td>2017-10-05 00:00:04</td>\n",
       "    </tr>\n",
       "  </tbody>\n",
       "</table>\n",
       "</div>"
      ],
      "text/plain": [
       "   seawater_temperature_ooinet         time_ooinet\n",
       "0                     7.719425 2017-10-05 00:00:00\n",
       "1                     7.719550 2017-10-05 00:00:01\n",
       "2                     7.719674 2017-10-05 00:00:02\n",
       "3                     7.719736 2017-10-05 00:00:03\n",
       "4                     7.719861 2017-10-05 00:00:04"
      ]
     },
     "execution_count": 17,
     "metadata": {},
     "output_type": "execute_result"
    }
   ],
   "source": [
    "df_nc.head() # ooinet processed"
   ]
  },
  {
   "cell_type": "markdown",
   "metadata": {},
   "source": [
    "A final check reveals that one data point appears to have been swapped between the raw data file that was written directly to the OOINet Cassandra database, and the files that were written out to the raw data archive. Raw cabled data streaming in live gets written directly to the Cassandra database, while the raw data files are written out to the archive via a seperate pipeline. There is likely a bug in one of these two pipelines. Ideally, the raw data files should be written out from the Cassandra database, but we haven't gotten there yet."
   ]
  },
  {
   "cell_type": "code",
   "execution_count": 18,
   "metadata": {},
   "outputs": [
    {
     "name": "stdout",
     "output_type": "stream",
     "text": [
      "82999    8.302190\n",
      "83000    8.302761\n",
      "83001    8.302507\n",
      "83002    8.302317\n",
      "Name: seawater_temperature, dtype: float64\n",
      "82999    8.302190\n",
      "83000    8.302507\n",
      "83001    8.302761\n",
      "83002    8.302317\n",
      "Name: seawater_temperature_ooinet, dtype: float64\n"
     ]
    }
   ],
   "source": [
    "# get the numerical diff\n",
    "test = seawater_temperature - seawater_temperature_ooinet\n",
    "\n",
    "# find all values that are not 0\n",
    "[i for i,x in enumerate(test) if x != 0]\n",
    "\n",
    "# observe the swap in the center values. likely a bug when writing out the cabled raw data to file.\n",
    "print df['seawater_temperature'][82999:83003]\n",
    "print df_nc['seawater_temperature_ooinet'][82999:83003]"
   ]
  },
  {
   "cell_type": "code",
   "execution_count": 19,
   "metadata": {
    "collapsed": true
   },
   "outputs": [],
   "source": [
    "# some plots for good measure\n",
    "%matplotlib inline\n",
    "import matplotlib.pyplot as plt\n",
    "import matplotlib.dates as mdates"
   ]
  },
  {
   "cell_type": "code",
   "execution_count": 20,
   "metadata": {},
   "outputs": [
    {
     "data": {
      "image/png": "[encoded data removed]",
      "text/plain": [
       "<matplotlib.figure.Figure at 0x112d79710>"
      ]
     },
     "metadata": {},
     "output_type": "display_data"
    }
   ],
   "source": [
    "# locally processed\n",
    "fig, ax = plt.subplots()\n",
    "ax.plot(time,seawater_temperature)\n",
    "fig.autofmt_xdate()"
   ]
  },
  {
   "cell_type": "code",
   "execution_count": 21,
   "metadata": {},
   "outputs": [
    {
     "data": {
      "image/png": "[encoded data removed]",
      "text/plain": [
       "<matplotlib.figure.Figure at 0x112fdcad0>"
      ]
     },
     "metadata": {},
     "output_type": "display_data"
    }
   ],
   "source": [
    "# ooinet processed\n",
    "fig, ax = plt.subplots()\n",
    "ax.plot(time_ooinet,seawater_temperature_ooinet)\n",
    "fig.autofmt_xdate()"
   ]
  },
  {
   "cell_type": "markdown",
   "metadata": {},
   "source": [
    "This exercise demonstrates the processing chain from raw to processed data product using publicly available code, raw data files and metadata. These data and additional data products could be further assembled into a NetCDF, as is produced by OOINet. This was never necessary for data evaluation purposes and should not prevent scientists from validating the output of OOINet. The \"first-in-class\" review effort revealed all steps in the data product processing chain, which allowed the Data Team to diagnose the root cause of issues and work with the appropriate team to find a fix.\n",
    "\n",
    "Stream Engine (uFrame) can be considered an assembly engine that brings together raw data, parsers, algorithms and metadata on demand and in real-time to produce a final NetCDF file (asynchronously) or a real-time JSON data response (synchronously). The Stream Engine code is available on GitHub, but was not used in this exercise, because it is not necessary to recreate the processing pipeline from raw, through parsed and finally processed data.\n",
    "\n",
    "https://github.com/oceanobservatories/stream_engine"
   ]
  }
 ],
 "metadata": {
  "kernelspec": {
   "display_name": "Python 3",
   "language": "python",
   "name": "python3"
  },
  "language_info": {
   "codemirror_mode": {
    "name": "ipython",
    "version": 3
   },
   "file_extension": ".py",
   "mimetype": "text/x-python",
   "name": "python",
   "nbconvert_exporter": "python",
   "pygments_lexer": "ipython3",
   "version": "3.6.2"
  }
 },
 "nbformat": 4,
 "nbformat_minor": 2
}
